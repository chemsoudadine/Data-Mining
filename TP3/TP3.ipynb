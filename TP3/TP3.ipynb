{
  "nbformat": 4,
  "nbformat_minor": 0,
  "metadata": {
    "colab": {
      "name": "Numpy et matplotlib.ipynb",
      "provenance": [],
      "collapsed_sections": []
    },
    "kernelspec": {
      "name": "python3",
      "display_name": "Python 3"
    },
    "language_info": {
      "name": "python"
    }
  },
  "cells": [
    {
      "cell_type": "markdown",
      "metadata": {
        "id": "s7Irm76idX-Q"
      },
      "source": [
        "<div align=\"center\">\n",
        "\n",
        "-----\n",
        "**UMTS/FT/DI** &ensp; &emsp;  &emsp; **Matière** : Data Mining &emsp;&emsp;&emsp;      **Master** : SIC2\n",
        "-----\n",
        "------\n",
        "Réalisé par : Chems Eddine **BOUANANI**\n",
        "------\n",
        "-----\n",
        "### **Solution TP 3** : Numpy et matplotlib avec python\n",
        "-----\n",
        "</div>"
      ]
    },
    {
      "cell_type": "markdown",
      "metadata": {
        "id": "jr52_CQ9dZSW"
      },
      "source": [
        "## **Q1) Pourquoi numpy ?**\n",
        "__NumPy__ (__Numerical Python__) fournit une interface pour stocker et effectuer des opérations sur les données.\n",
        "D'une certaine manière, les tableaux Numpy sont comme les listes en Python, mais __Numpy__ permet de rendre les opérations beaucoup plus efficaces, surtout sur les tableaux de large taille. Les tableaux Numpy sont au cœur de presque tout l'écosystème de data science en Python."
      ]
    },
    {
      "cell_type": "markdown",
      "metadata": {
        "id": "jkLNa7QrftY4"
      },
      "source": [
        "## **Q2) Différence entre numpy et tableaux traditionnels ?**\n",
        "- __NumPy__ sont stockés à un endroit continu dans la mémoire contrairement aux __tableaux traditionnels__\n",
        "- __NumPy__ est plus rapide que les __tableaux__. Il est également optimisé pour fonctionner avec les dernières architectures CPU"
      ]
    },
    {
      "cell_type": "code",
      "metadata": {
        "colab": {
          "base_uri": "https://localhost:8080/"
        },
        "id": "k5BZrC3Fgcib",
        "outputId": "5ff2321e-445d-4f0c-d9a8-4b1aad0e0954"
      },
      "source": [
        "pip install numpy"
      ],
      "execution_count": null,
      "outputs": [
        {
          "output_type": "stream",
          "name": "stdout",
          "text": [
            "Requirement already satisfied: numpy in /usr/local/lib/python3.7/dist-packages (1.19.5)\n"
          ]
        }
      ]
    },
    {
      "cell_type": "markdown",
      "metadata": {
        "id": "pWNtuLkVgia9"
      },
      "source": [
        "- ### __Créer un tableau avec numpy__"
      ]
    },
    {
      "cell_type": "code",
      "metadata": {
        "colab": {
          "base_uri": "https://localhost:8080/"
        },
        "id": "13S3mm0Ui3xD",
        "outputId": "5adf823a-7051-4528-b0dd-d10eb784bc02"
      },
      "source": [
        "import numpy as np\n",
        "\n",
        "T = np.array((1, 2, 3, 4, 5))\n",
        "\n",
        "print(T)"
      ],
      "execution_count": null,
      "outputs": [
        {
          "output_type": "stream",
          "name": "stdout",
          "text": [
            "[1 2 3 4 5]\n"
          ]
        }
      ]
    },
    {
      "cell_type": "markdown",
      "metadata": {
        "id": "6F2rnR_ZjAfF"
      },
      "source": [
        "- ### __Créer un tableau 0-D avec la valeur 25 ?__ "
      ]
    },
    {
      "cell_type": "code",
      "metadata": {
        "colab": {
          "base_uri": "https://localhost:8080/"
        },
        "id": "Rpmd_bQBjEti",
        "outputId": "f2fd480d-6962-403f-db5e-3241fdcb8f43"
      },
      "source": [
        "import numpy as np\n",
        "T = np.array(25)\n",
        "print(T)"
      ],
      "execution_count": null,
      "outputs": [
        {
          "output_type": "stream",
          "name": "stdout",
          "text": [
            "25\n"
          ]
        }
      ]
    },
    {
      "cell_type": "markdown",
      "metadata": {
        "id": "0PDTCyAajVDE"
      },
      "source": [
        "- ### __Créer un tableau 2-D avec valeurs aléatoire >__"
      ]
    },
    {
      "cell_type": "code",
      "metadata": {
        "colab": {
          "base_uri": "https://localhost:8080/"
        },
        "id": "zB8g1EQXjY9o",
        "outputId": "9f6e8a64-bc26-4746-d7e9-fbfaf0be088c"
      },
      "source": [
        "import numpy as np\n",
        "\n",
        "T = np.array([[1, 2, 3], [4, 5, 6]])\n",
        "\n",
        "print(T)"
      ],
      "execution_count": null,
      "outputs": [
        {
          "output_type": "stream",
          "name": "stdout",
          "text": [
            "[[1 2 3]\n",
            " [4 5 6]]\n"
          ]
        }
      ]
    },
    {
      "cell_type": "markdown",
      "metadata": {
        "id": "GC_RimoIjitb"
      },
      "source": [
        "- ### __Créer un tableau et vérifier le nombre de dimensions ?__\n",
        "> __`ndim`__ retourne un entier qui nous indique combien de dimensions le tableau possède."
      ]
    },
    {
      "cell_type": "code",
      "metadata": {
        "colab": {
          "base_uri": "https://localhost:8080/"
        },
        "id": "0sxF198rjo1A",
        "outputId": "161ca74d-dc2c-4158-a612-49844da8a528"
      },
      "source": [
        "import numpy as np\n",
        "\n",
        "T3 = np.array([[[1, 2, 3], [4, 5, 6]], [[1, 2, 3], [4, 5, 6]]])\n",
        "\n",
        "print(T3.ndim) # dimension de cette tableau est : 3"
      ],
      "execution_count": null,
      "outputs": [
        {
          "output_type": "stream",
          "name": "stdout",
          "text": [
            "3\n"
          ]
        }
      ]
    },
    {
      "cell_type": "markdown",
      "metadata": {
        "id": "fv2CYliokQeB"
      },
      "source": [
        "- ### __Créer un exemple sur comment acéder un élément d’un tableau à 2 dimensions__"
      ]
    },
    {
      "cell_type": "code",
      "metadata": {
        "colab": {
          "base_uri": "https://localhost:8080/"
        },
        "id": "NzNCI1QYjtYg",
        "outputId": "db54c5da-6175-4bf4-f0c7-8356bcfd4441"
      },
      "source": [
        "import numpy as np\n",
        "\n",
        "T = np.array([[1,2,3,4,5], [6,7,8,9,10]])\n",
        "\n",
        "print('2ème élément sur 1ère ligne : ', T[0, 1])"
      ],
      "execution_count": null,
      "outputs": [
        {
          "output_type": "stream",
          "name": "stdout",
          "text": [
            "2ème élément sur 1ère ligne :  2\n"
          ]
        }
      ]
    },
    {
      "cell_type": "markdown",
      "metadata": {
        "id": "X9xwsl2pknto"
      },
      "source": [
        "- ### __Accéder et afficher un interval d’un tableau à 2 dimensions__"
      ]
    },
    {
      "cell_type": "code",
      "metadata": {
        "colab": {
          "base_uri": "https://localhost:8080/"
        },
        "id": "Fcn4af5UkpZd",
        "outputId": "2ed84805-d5fd-4758-cb56-d743ddca0aed"
      },
      "source": [
        "import numpy as np\n",
        "\n",
        "T2 = np.array([[1, 2, 3, 4, 5], [6, 7, 8, 9, 10]])\n",
        "print(T2) #affiche le tableau\n",
        "print(T2[0:2, 2]) # 0:2 affiche l'element de la position 2 dans la 1er tableaux, 2 affiche l'element de la posotion 2 dans 2ème tableux\n",
        "\n",
        "#Nb : premier element est 0 et 2èmèe elemént est 1, ainsi de suit..."
      ],
      "execution_count": null,
      "outputs": [
        {
          "output_type": "stream",
          "name": "stdout",
          "text": [
            "[[ 1  2  3  4  5]\n",
            " [ 6  7  8  9 10]]\n",
            "[3 8]\n"
          ]
        }
      ]
    },
    {
      "cell_type": "markdown",
      "metadata": {
        "id": "jiVgTPNPnQgY"
      },
      "source": [
        "- ### __Les types de données dans numpy et comment fixer le type d’un tableau avec numpy__"
      ]
    },
    {
      "cell_type": "code",
      "metadata": {
        "id": "oDRLB0kgnS51",
        "colab": {
          "base_uri": "https://localhost:8080/"
        },
        "outputId": "bf905821-185e-46b5-9933-09303dab30a6"
      },
      "source": [
        "import numpy as np\n",
        "\n",
        "T = np.array([1, 2, 3, 4])\n",
        "\n",
        "print(T.dtype) #affiche integer : int64\n",
        "\n",
        "T2 = np.array([1, 2, 3, 4], dtype='S') #pour fixer le type ave S=Strinng\n",
        "\n",
        "print(T2)\n",
        "print(T2.dtype)"
      ],
      "execution_count": null,
      "outputs": [
        {
          "output_type": "stream",
          "name": "stdout",
          "text": [
            "int64\n",
            "[b'1' b'2' b'3' b'4']\n",
            "|S1\n"
          ]
        }
      ]
    },
    {
      "cell_type": "markdown",
      "metadata": {
        "id": "VvXhGkFOpV2p"
      },
      "source": [
        "- ### __Créer un exemple avec comment converting un type de données__\n",
        "--`astype(par)`__ : pour convert type il faux specifer `par` parametre par ex int, bool,...."
      ]
    },
    {
      "cell_type": "code",
      "metadata": {
        "colab": {
          "base_uri": "https://localhost:8080/"
        },
        "id": "bk5pDcdHo_hY",
        "outputId": "174925da-8301-4e43-8e1d-393d358b83a7"
      },
      "source": [
        "import numpy as np\n",
        "\n",
        "T = np.array([1.4, 2.8, 14.51])\n",
        "\n",
        "New_T = T.astype(int)\n",
        "\n",
        "print(New_T)\n",
        "print(New_T.dtype)"
      ],
      "execution_count": null,
      "outputs": [
        {
          "output_type": "stream",
          "name": "stdout",
          "text": [
            "[ 1  2 14]\n",
            "int64\n"
          ]
        }
      ]
    },
    {
      "cell_type": "markdown",
      "metadata": {
        "id": "b86BW5FoqJau"
      },
      "source": [
        "- ### __Comment obtenir le shape d’un tableau__\n"
      ]
    },
    {
      "cell_type": "code",
      "metadata": {
        "colab": {
          "base_uri": "https://localhost:8080/"
        },
        "id": "XHkEqAs5pt2v",
        "outputId": "1816ccb7-cfc7-45f6-af2d-f25a48cdc660"
      },
      "source": [
        "import numpy as np\n",
        "\n",
        "T = np.array([[1, 2, 3, 4], [5, 6, 7, 8]])\n",
        "\n",
        "print(T.shape) \n",
        "# Output : 2, 4), ce qui signifie que le tableau a 2 dimensions, et chaque dimension a 4 éléments."
      ],
      "execution_count": null,
      "outputs": [
        {
          "output_type": "stream",
          "name": "stdout",
          "text": [
            "(2, 4)\n"
          ]
        }
      ]
    },
    {
      "cell_type": "markdown",
      "metadata": {
        "id": "g_7gO7mzq2Ql"
      },
      "source": [
        "- ### __Reshape un tableau avec numpy__\n",
        "> __Reshape__ signifie changer la forme d’un tableau.\n",
        ">\n",
        "> __Shape__ d’un tableau est le nombre d’éléments dans chaque dimension.\n",
        ">\n",
        "> En __Reshape__ nous pouvons ajouter ou supprimer des dimensions ou changer le nombre d’éléments dans chaque dimension."
      ]
    },
    {
      "cell_type": "code",
      "metadata": {
        "colab": {
          "base_uri": "https://localhost:8080/"
        },
        "id": "u4kFjV03q5LZ",
        "outputId": "3a8ba656-e896-4f59-c08e-9fa2c933f142"
      },
      "source": [
        "import numpy as np\n",
        "T= np.array([1, 2, 3, 4, 5, 6, 7, 8, 9, 10, 11, 12])\n",
        "New_T = T.reshape(4, 3)\n",
        "print(New_T)\n",
        "\n",
        "#Output : Convertissez le tableau 1-D suivant avec 12 éléments en un tableau 2-D. La dimension la plus extérieure aura 4 tableaux, chacun avec 3 éléments\n"
      ],
      "execution_count": null,
      "outputs": [
        {
          "output_type": "stream",
          "name": "stdout",
          "text": [
            "[[ 1  2  3]\n",
            " [ 4  5  6]\n",
            " [ 7  8  9]\n",
            " [10 11 12]]\n"
          ]
        }
      ]
    },
    {
      "cell_type": "markdown",
      "metadata": {
        "id": "ZeRD3YHWr5la"
      },
      "source": [
        "- ### __Créer une boucle qui permet de parcourir tous les éléments d’un tableau à 3 dimensions__"
      ]
    },
    {
      "cell_type": "code",
      "metadata": {
        "colab": {
          "base_uri": "https://localhost:8080/"
        },
        "id": "NpSrQcdDr7Yl",
        "outputId": "9996af84-794e-479d-9390-0095dd041a49"
      },
      "source": [
        "import numpy as np\n",
        "\n",
        "T = np.array([[[1, 2, 3], [4, 5, 6]], [[7, 8, 9], [10, 11, 12]]])\n",
        "\n",
        "for x in T:\n",
        "  for y in x:\n",
        "    for z in y:\n",
        "      print(z)"
      ],
      "execution_count": null,
      "outputs": [
        {
          "output_type": "stream",
          "name": "stdout",
          "text": [
            "1\n",
            "2\n",
            "3\n",
            "4\n",
            "5\n",
            "6\n",
            "7\n",
            "8\n",
            "9\n",
            "10\n",
            "11\n",
            "12\n"
          ]
        }
      ]
    },
    {
      "cell_type": "markdown",
      "metadata": {
        "id": "FF45SqmcsTjX"
      },
      "source": [
        "- ### __Créer un filtre d’un tableau avec numpy__"
      ]
    },
    {
      "cell_type": "code",
      "metadata": {
        "colab": {
          "base_uri": "https://localhost:8080/"
        },
        "id": "KEBvf69TsU_F",
        "outputId": "d25912d2-67e2-45c3-8441-8a6008654877"
      },
      "source": [
        "import numpy as np\n",
        "\n",
        "T = np.array([11, 14, 23, 54])\n",
        "\n",
        "x = [True, False, True, False]\n",
        "\n",
        "New_T = T[x]\n",
        "\n",
        "print(New_T) # retournera [11, 23], Parce que le nouveau filtre ne contient que les valeurs où le tableau de filtres avait la valeur True, dans ce cas, index 0 et 2."
      ],
      "execution_count": null,
      "outputs": [
        {
          "output_type": "stream",
          "name": "stdout",
          "text": [
            "[11 23]\n"
          ]
        }
      ]
    },
    {
      "cell_type": "markdown",
      "metadata": {
        "id": "6bvCsCFps_LW"
      },
      "source": [
        "## __Q4) pourquoi matplotlib__\n",
        "__Matplotlib__ est une bibliothèque de tracé graphique de bas niveau en python qui sert d’utilitaire de visualisation."
      ]
    },
    {
      "cell_type": "markdown",
      "metadata": {
        "id": "Ff32qqchtybz"
      },
      "source": [
        "## __Q5) importer et installer matplotlib__"
      ]
    },
    {
      "cell_type": "code",
      "metadata": {
        "colab": {
          "base_uri": "https://localhost:8080/"
        },
        "id": "YvpEp0-atzy4",
        "outputId": "16162878-39d6-4891-fe26-e64977b437c4"
      },
      "source": [
        "pip install matplotlib"
      ],
      "execution_count": null,
      "outputs": [
        {
          "output_type": "stream",
          "name": "stdout",
          "text": [
            "Requirement already satisfied: matplotlib in /usr/local/lib/python3.7/dist-packages (3.2.2)\n",
            "Requirement already satisfied: cycler>=0.10 in /usr/local/lib/python3.7/dist-packages (from matplotlib) (0.10.0)\n",
            "Requirement already satisfied: pyparsing!=2.0.4,!=2.1.2,!=2.1.6,>=2.0.1 in /usr/local/lib/python3.7/dist-packages (from matplotlib) (2.4.7)\n",
            "Requirement already satisfied: python-dateutil>=2.1 in /usr/local/lib/python3.7/dist-packages (from matplotlib) (2.8.2)\n",
            "Requirement already satisfied: numpy>=1.11 in /usr/local/lib/python3.7/dist-packages (from matplotlib) (1.19.5)\n",
            "Requirement already satisfied: kiwisolver>=1.0.1 in /usr/local/lib/python3.7/dist-packages (from matplotlib) (1.3.2)\n",
            "Requirement already satisfied: six in /usr/local/lib/python3.7/dist-packages (from cycler>=0.10->matplotlib) (1.15.0)\n"
          ]
        }
      ]
    },
    {
      "cell_type": "code",
      "metadata": {
        "id": "jFPcgxzst1x5"
      },
      "source": [
        "import matplotlib"
      ],
      "execution_count": null,
      "outputs": []
    },
    {
      "cell_type": "markdown",
      "metadata": {
        "id": "KfMVgdzdt7rz"
      },
      "source": [
        "## __Q6) veillez m’envoyer notebook qui contient :__"
      ]
    },
    {
      "cell_type": "markdown",
      "metadata": {
        "id": "0EUfxVFrt-w8"
      },
      "source": [
        "- ### __Générer et afficher un graphe à deux dimensions__"
      ]
    },
    {
      "cell_type": "code",
      "metadata": {
        "colab": {
          "base_uri": "https://localhost:8080/",
          "height": 265
        },
        "id": "IegWWN0pt-Zo",
        "outputId": "7bade67d-5449-4022-d78a-50d6cbcfccdb"
      },
      "source": [
        "import matplotlib.pyplot as plt\n",
        "import numpy as np\n",
        "\n",
        "Graphe = np.array([[0, 50],[60,100]])\n",
        "\n",
        "plt.plot(Graphe)\n",
        "plt.show()"
      ],
      "execution_count": null,
      "outputs": [
        {
          "output_type": "display_data",
          "data": {
            "image/png": "[encoded data removed]",
            "text/plain": [
              "<Figure size 432x288 with 1 Axes>"
            ]
          },
          "metadata": {
            "needs_background": "light"
          }
        }
      ]
    },
    {
      "cell_type": "markdown",
      "metadata": {
        "id": "kKK7k4zbvZVW"
      },
      "source": [
        "- ### __Donner une définition sur pyplot__ \\\n",
        "__Pyplot__ est un module Matplotlib qui fournit une interface de type MATLAB. Matplotlib est conçu pour être aussi utilisable que MATLAB, avec la possibilité d’utiliser Python et l’avantage d’être libre et open-source. Chaque fonction pyplot apporte quelques modifications à une figure : par exemple, crée une figure, crée une zone de tracé dans une figure, trace quelques lignes dans une zone de tracé, décore la parcelle avec des étiquettes, etc. Les différentes parcelles que nous pouvons utiliser avec Pyplot sont Line Plot, Histogram, Scatter, 3D Plot, Image, Contour et Polar.[1]\\\n",
        "__Syntaxe :__\n",
        "```python \n",
        "matplotlib.pyplot.plot(*args, scalex=True, scaley=True, data=None, **kwargs)\n",
        "```\n",
        "---- \n",
        "[1] - https://www.geeksforgeeks.org/pyplot-in-matplotlib/"
      ]
    },
    {
      "cell_type": "markdown",
      "metadata": {
        "id": "5V-77Uhdw0jr"
      },
      "source": [
        "- ### __Donner une explication et un exemple sur l’utilisation de plot()__\n",
        "La fonction __plot()__ est utilisée pour dessiner des points (marqueurs) dans un diagramme.\\\n",
        "Par défaut, la fonction __plot()__ trace une ligne d’un point à l’autre.\\\n",
        "La fonction prend des paramètres pour spécifier des points dans le diagramme.\\\n",
        "Le paramètre 1 est un tableau contenant les points sur __l’axe__ des __x__.\\\n",
        "Le paramètre 2 est un tableau contenant les points sur __l’axe__ __y.__\\\n",
        "__Exemple :__"
      ]
    },
    {
      "cell_type": "code",
      "metadata": {
        "colab": {
          "base_uri": "https://localhost:8080/",
          "height": 265
        },
        "id": "0XvXJlirw3MG",
        "outputId": "55bb047e-c68b-44dd-b6f3-d5794e52f938"
      },
      "source": [
        "import matplotlib.pyplot as plt\n",
        "import numpy as np\n",
        "\n",
        "x = np.array([0, 20]) # l'axe des x de 0 à 20\n",
        "y = np.array([0, 30]) # l'axe des y de 0 à 30\n",
        "\n",
        "plt.plot(x, y)\n",
        "plt.show()"
      ],
      "execution_count": null,
      "outputs": [
        {
          "output_type": "display_data",
          "data": {
            "image/png": "[encoded data removed]",
            "text/plain": [
              "<Figure size 432x288 with 1 Axes>"
            ]
          },
          "metadata": {
            "needs_background": "light"
          }
        }
      ]
    },
    {
      "cell_type": "markdown",
      "metadata": {
        "id": "_bTn9EWMyCFm"
      },
      "source": [
        "- ### __Explication et exemple sur l’argument marker, line style, labels, grid, scatter() function, bar() function, pie() function et hist() function__\n",
        "- __Marker__ :"
      ]
    },
    {
      "cell_type": "code",
      "metadata": {
        "colab": {
          "base_uri": "https://localhost:8080/",
          "height": 265
        },
        "id": "Z21odEHYyD6T",
        "outputId": "34f8fe3c-d1b1-49c8-dbd6-383d4e7d1379"
      },
      "source": [
        "import matplotlib.pyplot as plt\n",
        "import numpy as np\n",
        "\n",
        "y = np.array([10, 12, 8, 21])\n",
        "\n",
        "plt.plot(y, marker = 'o') # o(circle) ou on peut remplacer avec *, .(point), +(plus)...\n",
        "plt.show()"
      ],
      "execution_count": null,
      "outputs": [
        {
          "output_type": "display_data",
          "data": {
            "image/png": "[encoded data removed]",
            "text/plain": [
              "<Figure size 432x288 with 1 Axes>"
            ]
          },
          "metadata": {
            "needs_background": "light"
          }
        }
      ]
    },
    {
      "cell_type": "markdown",
      "metadata": {
        "id": "9l9knjflyzck"
      },
      "source": [
        "- __Line style__ :"
      ]
    },
    {
      "cell_type": "code",
      "metadata": {
        "colab": {
          "base_uri": "https://localhost:8080/",
          "height": 265
        },
        "id": "_GJYHcJjyXEU",
        "outputId": "276b439b-e40b-4442-d168-00be7aa202b7"
      },
      "source": [
        "import matplotlib.pyplot as plt\n",
        "import numpy as np\n",
        "\n",
        "y = np.array([10, 12, 8, 21])\n",
        "\n",
        "plt.plot(y, linestyle = 'dotted') # Dotted : avec des points\n",
        "plt.show()"
      ],
      "execution_count": null,
      "outputs": [
        {
          "output_type": "display_data",
          "data": {
            "image/png": "[encoded data removed]",
            "text/plain": [
              "<Figure size 432x288 with 1 Axes>"
            ]
          },
          "metadata": {
            "needs_background": "light"
          }
        }
      ]
    },
    {
      "cell_type": "markdown",
      "metadata": {
        "id": "8NK69X4gzLXZ"
      },
      "source": [
        "- __Labesl__ :"
      ]
    },
    {
      "cell_type": "code",
      "metadata": {
        "colab": {
          "base_uri": "https://localhost:8080/",
          "height": 279
        },
        "id": "9q5luQIGzNu3",
        "outputId": "4c8f6f63-ddfa-477b-ac91-c2a39b8932fc"
      },
      "source": [
        "import numpy as np\n",
        "import matplotlib.pyplot as plt\n",
        "\n",
        "x = np.array([0, 20]) # l'axe des x de 0 à 20\n",
        "y = np.array([0, 30]) # l'axe des y de 0 à 30\n",
        "\n",
        "plt.plot(x, y)\n",
        "\n",
        "plt.xlabel(\"Nombre des etudients\")\n",
        "plt.ylabel(\"Age\")\n",
        "\n",
        "plt.show()"
      ],
      "execution_count": null,
      "outputs": [
        {
          "output_type": "display_data",
          "data": {
            "image/png": "[encoded data removed]",
            "text/plain": [
              "<Figure size 432x288 with 1 Axes>"
            ]
          },
          "metadata": {
            "needs_background": "light"
          }
        }
      ]
    },
    {
      "cell_type": "markdown",
      "metadata": {
        "id": "nf-e82fo1LuE"
      },
      "source": [
        "- __Grid__:"
      ]
    },
    {
      "cell_type": "code",
      "metadata": {
        "colab": {
          "base_uri": "https://localhost:8080/",
          "height": 295
        },
        "id": "Ntzy9a8B04sz",
        "outputId": "6ac53352-b0ea-43fc-d0f3-aa61e0f8b70b"
      },
      "source": [
        "import numpy as np\n",
        "import matplotlib.pyplot as plt\n",
        "\n",
        "x = np.array([0, 20]) # l'axe des x de 0 à 20\n",
        "y = np.array([0, 30]) # l'axe des y de 0 à 30\n",
        "\n",
        "plt.title(\"SIC2\")\n",
        "plt.xlabel(\"Nombre des étuudients\")\n",
        "plt.ylabel(\"Age\")\n",
        "\n",
        "plt.plot(x, y)\n",
        "\n",
        "plt.grid()\n",
        "\n",
        "plt.show()"
      ],
      "execution_count": null,
      "outputs": [
        {
          "output_type": "display_data",
          "data": {
            "image/png": "[encoded data removed]",
            "text/plain": [
              "<Figure size 432x288 with 1 Axes>"
            ]
          },
          "metadata": {
            "needs_background": "light"
          }
        }
      ]
    },
    {
      "cell_type": "markdown",
      "metadata": {
        "id": "APXNykdB1sdT"
      },
      "source": [
        "- __Scatter()__:"
      ]
    },
    {
      "cell_type": "code",
      "metadata": {
        "colab": {
          "base_uri": "https://localhost:8080/",
          "height": 265
        },
        "id": "WDj-9UYi1n3Z",
        "outputId": "f65db013-4756-4d48-dff7-5cf15af40bee"
      },
      "source": [
        "import matplotlib.pyplot as plt\n",
        "import numpy as np\n",
        "\n",
        "x = np.array([0, 20]) # l'axe des x de 0 à 20\n",
        "y = np.array([0, 30]) # l'axe des y de 0 à 30\n",
        "\n",
        "plt.scatter(x, y)\n",
        "plt.show()"
      ],
      "execution_count": null,
      "outputs": [
        {
          "output_type": "display_data",
          "data": {
            "image/png": "[encoded data removed]",
            "text/plain": [
              "<Figure size 432x288 with 1 Axes>"
            ]
          },
          "metadata": {
            "needs_background": "light"
          }
        }
      ]
    },
    {
      "cell_type": "markdown",
      "metadata": {
        "id": "Ia2m9Pgm14ua"
      },
      "source": [
        "- __Bar()__:"
      ]
    },
    {
      "cell_type": "code",
      "metadata": {
        "colab": {
          "base_uri": "https://localhost:8080/",
          "height": 265
        },
        "id": "GwfMleZR1yEf",
        "outputId": "416c70ad-de22-4152-eaf0-86607e7571fc"
      },
      "source": [
        "import matplotlib.pyplot as plt\n",
        "import numpy as np\n",
        "\n",
        "x = np.array([0, 20]) # l'axe des x de 0 à 20\n",
        "y = np.array([0, 30]) # l'axe des y de 0 à 30\n",
        "\n",
        "plt.bar(x,y)\n",
        "plt.show()"
      ],
      "execution_count": null,
      "outputs": [
        {
          "output_type": "display_data",
          "data": {
            "image/png": "[encoded data removed]",
            "text/plain": [
              "<Figure size 432x288 with 1 Axes>"
            ]
          },
          "metadata": {
            "needs_background": "light"
          }
        }
      ]
    },
    {
      "cell_type": "markdown",
      "metadata": {
        "id": "iTJBAFhF2I44"
      },
      "source": [
        "- __Pie()__:"
      ]
    },
    {
      "cell_type": "code",
      "metadata": {
        "colab": {
          "base_uri": "https://localhost:8080/",
          "height": 248
        },
        "id": "haNjKVod2DKv",
        "outputId": "d7a9a4fe-bd23-4dc1-dbd9-d86b71c00404"
      },
      "source": [
        "import matplotlib.pyplot as plt\n",
        "import numpy as np\n",
        "\n",
        "y = np.array([0, 30,12,53])\n",
        "\n",
        "plt.pie(y)\n",
        "plt.show()"
      ],
      "execution_count": null,
      "outputs": [
        {
          "output_type": "display_data",
          "data": {
            "image/png": "[encoded data removed]",
            "text/plain": [
              "<Figure size 432x288 with 1 Axes>"
            ]
          },
          "metadata": {}
        }
      ]
    },
    {
      "cell_type": "markdown",
      "metadata": {
        "id": "e3wwXvOZ2fHK"
      },
      "source": [
        "- __hist()__:"
      ]
    },
    {
      "cell_type": "code",
      "metadata": {
        "colab": {
          "base_uri": "https://localhost:8080/",
          "height": 265
        },
        "id": "xHtprMJW2Quz",
        "outputId": "0d7f906c-0fba-4e88-a5f0-3a0f66630f75"
      },
      "source": [
        "import matplotlib.pyplot as plt\n",
        "import numpy as np\n",
        "\n",
        "x = np.random.normal(120, 50, 321)\n",
        "\n",
        "plt.hist(x)\n",
        "plt.show() "
      ],
      "execution_count": null,
      "outputs": [
        {
          "output_type": "display_data",
          "data": {
            "image/png": "[encoded data removed]",
            "text/plain": [
              "<Figure size 432x288 with 1 Axes>"
            ]
          },
          "metadata": {
            "needs_background": "light"
          }
        }
      ]
    },
    {
      "cell_type": "code",
      "metadata": {
        "id": "SqZA78Yi2nad"
      },
      "source": [
        ""
      ],
      "execution_count": null,
      "outputs": []
    }
  ]
}